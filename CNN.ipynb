{
  "cells": [
    {
      "cell_type": "markdown",
      "metadata": {
        "id": "view-in-github",
        "colab_type": "text"
      },
      "source": [
        "<a href=\"https://colab.research.google.com/github/moatazkrimchi/Deep-learning/blob/main/CNN.ipynb\" target=\"_parent\"><img src=\"https://colab.research.google.com/assets/colab-badge.svg\" alt=\"Open In Colab\"/></a>"
      ]
    },
    {
      "cell_type": "code",
      "execution_count": 15,
      "metadata": {
        "id": "HVg6e_VlmXnO"
      },
      "outputs": [],
      "source": [
        "# importer les packages \n",
        "import matplotlib.pyplot as plt\n",
        "import numpy as np\n",
        "from tensorflow.keras.datasets import cifar10\n",
        "from tensorflow.keras.preprocessing.image import ImageDataGenerator\n",
        "import tensorflow as tf\n",
        "from tensorflow.keras.models import Sequential\n",
        "from tensorflow.keras.layers import Dense, Activation, Flatten\n",
        "from tensorflow.keras.layers import Conv2D, MaxPooling2D"
      ]
    },
    {
      "cell_type": "code",
      "execution_count": 16,
      "metadata": {
        "id": "lO96CpDunjjf"
      },
      "outputs": [],
      "source": [
        "# chargement de la base de données \n",
        "(X_train, y_train), (X_test, y_test) = cifar10.load_data()"
      ]
    },
    {
      "cell_type": "code",
      "execution_count": 17,
      "metadata": {
        "colab": {
          "base_uri": "https://localhost:8080/",
          "height": 283
        },
        "id": "XIKocBubnj0N",
        "outputId": "1aecdd60-4fcf-4561-9cc0-03b3f9a6fc89"
      },
      "outputs": [
        {
          "output_type": "execute_result",
          "data": {
            "text/plain": [
              "<matplotlib.image.AxesImage at 0x7f49c3976810>"
            ]
          },
          "metadata": {},
          "execution_count": 17
        },
        {
          "output_type": "display_data",
          "data": {
            "image/png": "[encoded data removed]",
            "text/plain": [
              "<Figure size 432x288 with 1 Axes>"
            ]
          },
          "metadata": {
            "needs_background": "light"
          }
        }
      ],
      "source": [
        "plt.imshow(X_train[9])"
      ]
    },
    {
      "cell_type": "code",
      "execution_count": 18,
      "metadata": {
        "colab": {
          "base_uri": "https://localhost:8080/"
        },
        "id": "mOdOD9TVnj24",
        "outputId": "c838bed1-e2a3-4226-db67-4542f35271a5"
      },
      "outputs": [
        {
          "output_type": "execute_result",
          "data": {
            "text/plain": [
              "array([[[125, 125, 116],\n",
              "        [110, 101,  91],\n",
              "        [102,  90,  83],\n",
              "        ...,\n",
              "        [202, 207, 214],\n",
              "        [200, 205, 212],\n",
              "        [202, 208, 214]],\n",
              "\n",
              "       [[142, 146, 142],\n",
              "        [146, 144, 139],\n",
              "        [176, 172, 170],\n",
              "        ...,\n",
              "        [195, 201, 205],\n",
              "        [198, 205, 209],\n",
              "        [204, 211, 215]],\n",
              "\n",
              "       [[180, 185, 183],\n",
              "        [143, 146, 146],\n",
              "        [156, 157, 157],\n",
              "        ...,\n",
              "        [122, 111, 113],\n",
              "        [139, 128, 131],\n",
              "        [158, 147, 150]],\n",
              "\n",
              "       ...,\n",
              "\n",
              "       [[104,  82,  41],\n",
              "        [101,  80,  39],\n",
              "        [101,  81,  38],\n",
              "        ...,\n",
              "        [126, 103,  67],\n",
              "        [126, 103,  69],\n",
              "        [125, 101,  68]],\n",
              "\n",
              "       [[104,  81,  40],\n",
              "        [105,  84,  41],\n",
              "        [109,  88,  43],\n",
              "        ...,\n",
              "        [138, 113,  78],\n",
              "        [137, 113,  80],\n",
              "        [137, 112,  81]],\n",
              "\n",
              "       [[105,  83,  42],\n",
              "        [108,  87,  45],\n",
              "        [115,  94,  50],\n",
              "        ...,\n",
              "        [143, 117,  82],\n",
              "        [143, 116,  84],\n",
              "        [144, 116,  86]]], dtype=uint8)"
            ]
          },
          "metadata": {},
          "execution_count": 18
        }
      ],
      "source": [
        "X_train[9]"
      ]
    },
    {
      "cell_type": "code",
      "execution_count": 19,
      "metadata": {
        "id": "IZIgwpHQnj5y"
      },
      "outputs": [],
      "source": [
        "# normalisation\n",
        "X_train = X_train/255.0\n",
        "X_test = X_test/255.0"
      ]
    },
    {
      "cell_type": "code",
      "execution_count": 20,
      "metadata": {
        "colab": {
          "base_uri": "https://localhost:8080/"
        },
        "id": "HRY81Cp_nj8Z",
        "outputId": "eec7b265-b299-4b81-da74-7899d1a0d640"
      },
      "outputs": [
        {
          "output_type": "execute_result",
          "data": {
            "text/plain": [
              "array([[[0.49019608, 0.49019608, 0.45490196],\n",
              "        [0.43137255, 0.39607843, 0.35686275],\n",
              "        [0.4       , 0.35294118, 0.3254902 ],\n",
              "        ...,\n",
              "        [0.79215686, 0.81176471, 0.83921569],\n",
              "        [0.78431373, 0.80392157, 0.83137255],\n",
              "        [0.79215686, 0.81568627, 0.83921569]],\n",
              "\n",
              "       [[0.55686275, 0.57254902, 0.55686275],\n",
              "        [0.57254902, 0.56470588, 0.54509804],\n",
              "        [0.69019608, 0.6745098 , 0.66666667],\n",
              "        ...,\n",
              "        [0.76470588, 0.78823529, 0.80392157],\n",
              "        [0.77647059, 0.80392157, 0.81960784],\n",
              "        [0.8       , 0.82745098, 0.84313725]],\n",
              "\n",
              "       [[0.70588235, 0.7254902 , 0.71764706],\n",
              "        [0.56078431, 0.57254902, 0.57254902],\n",
              "        [0.61176471, 0.61568627, 0.61568627],\n",
              "        ...,\n",
              "        [0.47843137, 0.43529412, 0.44313725],\n",
              "        [0.54509804, 0.50196078, 0.51372549],\n",
              "        [0.61960784, 0.57647059, 0.58823529]],\n",
              "\n",
              "       ...,\n",
              "\n",
              "       [[0.40784314, 0.32156863, 0.16078431],\n",
              "        [0.39607843, 0.31372549, 0.15294118],\n",
              "        [0.39607843, 0.31764706, 0.14901961],\n",
              "        ...,\n",
              "        [0.49411765, 0.40392157, 0.2627451 ],\n",
              "        [0.49411765, 0.40392157, 0.27058824],\n",
              "        [0.49019608, 0.39607843, 0.26666667]],\n",
              "\n",
              "       [[0.40784314, 0.31764706, 0.15686275],\n",
              "        [0.41176471, 0.32941176, 0.16078431],\n",
              "        [0.42745098, 0.34509804, 0.16862745],\n",
              "        ...,\n",
              "        [0.54117647, 0.44313725, 0.30588235],\n",
              "        [0.5372549 , 0.44313725, 0.31372549],\n",
              "        [0.5372549 , 0.43921569, 0.31764706]],\n",
              "\n",
              "       [[0.41176471, 0.3254902 , 0.16470588],\n",
              "        [0.42352941, 0.34117647, 0.17647059],\n",
              "        [0.45098039, 0.36862745, 0.19607843],\n",
              "        ...,\n",
              "        [0.56078431, 0.45882353, 0.32156863],\n",
              "        [0.56078431, 0.45490196, 0.32941176],\n",
              "        [0.56470588, 0.45490196, 0.3372549 ]]])"
            ]
          },
          "metadata": {},
          "execution_count": 20
        }
      ],
      "source": [
        "X_train[9]"
      ]
    },
    {
      "cell_type": "code",
      "execution_count": 21,
      "metadata": {
        "id": "tp29gL--nj_D"
      },
      "outputs": [],
      "source": [
        "# creation du model \n",
        "model = Sequential()\n"
      ]
    },
    {
      "cell_type": "code",
      "execution_count": 22,
      "metadata": {
        "colab": {
          "base_uri": "https://localhost:8080/"
        },
        "id": "yfIKrgs9pdux",
        "outputId": "d7ffd36a-7931-4089-b0d1-23265af5b825"
      },
      "outputs": [
        {
          "output_type": "execute_result",
          "data": {
            "text/plain": [
              "(50000, 32, 32, 3)"
            ]
          },
          "metadata": {},
          "execution_count": 22
        }
      ],
      "source": [
        "X_train.shape"
      ]
    },
    {
      "cell_type": "code",
      "execution_count": 23,
      "metadata": {
        "id": "9DEnb4XEnkBr"
      },
      "outputs": [],
      "source": [
        "# cree le reseau de convolution (cnn)\n",
        "model.add(Conv2D(256,(3,3),input_shape=X_train.shape[1:]))\n",
        "model.add(Activation('relu'))\n",
        "model.add(MaxPooling2D(pool_size=(2,2)))"
      ]
    },
    {
      "cell_type": "code",
      "execution_count": 24,
      "metadata": {
        "id": "EHgMMWX1sKMy"
      },
      "outputs": [],
      "source": [
        "#ajouter une chouche de convoluion \n",
        "model.add(Conv2D(256,(3,3)))\n",
        "model.add(Activation('relu'))\n",
        "model.add(MaxPooling2D(pool_size=(2,2)))"
      ]
    },
    {
      "cell_type": "code",
      "execution_count": 25,
      "metadata": {
        "id": "G1Q9rGs9nkFI"
      },
      "outputs": [],
      "source": [
        "model.add(Flatten())"
      ]
    },
    {
      "cell_type": "code",
      "execution_count": 26,
      "metadata": {
        "id": "6CV-8jBcqDft"
      },
      "outputs": [],
      "source": [
        "# le complement connecté\n",
        "model.add(Dense(64))\n",
        "model.add(Dense(10))\n",
        "model.add(Activation('sigmoid'))\n",
        "model.compile(loss='sparse_categorical_crossentropy', optimizer='Adam', metrics=['sparse_categorical_accuracy'])"
      ]
    },
    {
      "cell_type": "code",
      "execution_count": 27,
      "metadata": {
        "colab": {
          "base_uri": "https://localhost:8080/"
        },
        "id": "X3XvAF8nnkPs",
        "outputId": "cabee70c-88e2-41f7-e0e1-59a9329dd5d0"
      },
      "outputs": [
        {
          "output_type": "stream",
          "name": "stdout",
          "text": [
            "Model: \"sequential_1\"\n",
            "_________________________________________________________________\n",
            " Layer (type)                Output Shape              Param #   \n",
            "=================================================================\n",
            " conv2d_2 (Conv2D)           (None, 30, 30, 256)       7168      \n",
            "                                                                 \n",
            " activation_3 (Activation)   (None, 30, 30, 256)       0         \n",
            "                                                                 \n",
            " max_pooling2d_2 (MaxPooling  (None, 15, 15, 256)      0         \n",
            " 2D)                                                             \n",
            "                                                                 \n",
            " conv2d_3 (Conv2D)           (None, 13, 13, 256)       590080    \n",
            "                                                                 \n",
            " activation_4 (Activation)   (None, 13, 13, 256)       0         \n",
            "                                                                 \n",
            " max_pooling2d_3 (MaxPooling  (None, 6, 6, 256)        0         \n",
            " 2D)                                                             \n",
            "                                                                 \n",
            " flatten_1 (Flatten)         (None, 9216)              0         \n",
            "                                                                 \n",
            " dense_2 (Dense)             (None, 64)                589888    \n",
            "                                                                 \n",
            " dense_3 (Dense)             (None, 10)                650       \n",
            "                                                                 \n",
            " activation_5 (Activation)   (None, 10)                0         \n",
            "                                                                 \n",
            "=================================================================\n",
            "Total params: 1,187,786\n",
            "Trainable params: 1,187,786\n",
            "Non-trainable params: 0\n",
            "_________________________________________________________________\n"
          ]
        }
      ],
      "source": [
        "model.summary()"
      ]
    },
    {
      "cell_type": "code",
      "execution_count": 28,
      "metadata": {
        "id": "UJrsmquznkVr",
        "colab": {
          "base_uri": "https://localhost:8080/"
        },
        "outputId": "fa5123a1-507a-42f6-fe32-bda163c47475"
      },
      "outputs": [
        {
          "output_type": "stream",
          "name": "stdout",
          "text": [
            "Epoch 1/10\n",
            "1563/1563 [==============================] - 677s 433ms/step - loss: 1.4281 - sparse_categorical_accuracy: 0.4898\n",
            "Epoch 2/10\n",
            "1563/1563 [==============================] - 671s 430ms/step - loss: 1.1022 - sparse_categorical_accuracy: 0.6165\n",
            "Epoch 3/10\n",
            "1563/1563 [==============================] - 668s 427ms/step - loss: 0.9958 - sparse_categorical_accuracy: 0.6544\n",
            "Epoch 4/10\n",
            "1563/1563 [==============================] - 667s 427ms/step - loss: 0.9328 - sparse_categorical_accuracy: 0.6754\n",
            "Epoch 5/10\n",
            "1563/1563 [==============================] - 667s 427ms/step - loss: 0.8864 - sparse_categorical_accuracy: 0.6914\n",
            "Epoch 6/10\n",
            "1563/1563 [==============================] - 667s 427ms/step - loss: 0.8486 - sparse_categorical_accuracy: 0.7027\n",
            "Epoch 7/10\n",
            "1563/1563 [==============================] - 667s 426ms/step - loss: 0.8119 - sparse_categorical_accuracy: 0.7180\n",
            "Epoch 8/10\n",
            "1563/1563 [==============================] - 666s 426ms/step - loss: 0.7883 - sparse_categorical_accuracy: 0.7268\n",
            "Epoch 9/10\n",
            "1563/1563 [==============================] - 666s 426ms/step - loss: 0.7683 - sparse_categorical_accuracy: 0.7312\n",
            "Epoch 10/10\n",
            "1563/1563 [==============================] - 665s 426ms/step - loss: 0.7445 - sparse_categorical_accuracy: 0.7392\n"
          ]
        },
        {
          "output_type": "execute_result",
          "data": {
            "text/plain": [
              "<keras.callbacks.History at 0x7f49c3899090>"
            ]
          },
          "metadata": {},
          "execution_count": 28
        }
      ],
      "source": [
        "# entrainer le modèle\n",
        "model.fit(X_train,y_train,batch_size=32,epochs=10)"
      ]
    },
    {
      "cell_type": "code",
      "execution_count": 29,
      "metadata": {
        "id": "DrRKbnBLr7aX",
        "colab": {
          "base_uri": "https://localhost:8080/"
        },
        "outputId": "36457f79-896a-4249-d30a-4b939d922ea5"
      },
      "outputs": [
        {
          "output_type": "stream",
          "name": "stdout",
          "text": [
            "313/313 [==============================] - 35s 110ms/step - loss: 0.9085 - sparse_categorical_accuracy: 0.6878\n"
          ]
        }
      ],
      "source": [
        "test_loss, test_accuracy = model.evaluate(X_test, y_test)"
      ]
    },
    {
      "cell_type": "code",
      "execution_count": 29,
      "metadata": {
        "id": "nPAbu2B8nkZK"
      },
      "outputs": [],
      "source": [
        ""
      ]
    },
    {
      "cell_type": "code",
      "execution_count": 29,
      "metadata": {
        "id": "cllYRQibnknw"
      },
      "outputs": [],
      "source": [
        ""
      ]
    }
  ],
  "metadata": {
    "colab": {
      "name": "CNN",
      "provenance": [],
      "authorship_tag": "ABX9TyOXgNsHN3B+TRsDyaRriCXc",
      "include_colab_link": true
    },
    "kernelspec": {
      "display_name": "Python 3",
      "name": "python3"
    },
    "language_info": {
      "name": "python"
    }
  },
  "nbformat": 4,
  "nbformat_minor": 0
}